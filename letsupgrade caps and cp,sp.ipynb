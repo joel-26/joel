{
 "cells": [
  {
   "cell_type": "code",
   "execution_count": 1,
   "metadata": {},
   "outputs": [
    {
     "name": "stdout",
     "output_type": "stream",
     "text": [
      "LETS UPGRADE\n"
     ]
    }
   ],
   "source": [
    "print(\"LETS UPGRADE\")"
   ]
  },
  {
   "cell_type": "code",
   "execution_count": 3,
   "metadata": {},
   "outputs": [
    {
     "name": "stdout",
     "output_type": "stream",
     "text": [
      " Please Enter the Cost Price20\n",
      " Please Enter the selling Price30\n",
      "neither\n"
     ]
    }
   ],
   "source": [
    "CP = float(input(\" Please Enter the Cost Price\"))\n",
    "\n",
    "SP = float(input(\" Please Enter the selling Price\"))\n",
    "\n",
    "if(CP > SP):\n",
    "\n",
    "   amount = CP - SP\n",
    "\n",
    "   print(\"profit\")\n",
    "\n",
    "elif(SP > CP):\n",
    "\n",
    "   amount = SP - CP\n",
    "\n",
    "   print(\"neither\")\n",
    "\n",
    "else:\n",
    "\n",
    "   print(\"loss\")"
   ]
  },
  {
   "cell_type": "code",
   "execution_count": null,
   "metadata": {},
   "outputs": [],
   "source": [
    "# Python program to convert the currency \n",
    "# of one country to that of another country  \n",
    "  \n",
    "# Import the modules needed \n",
    "import requests \n",
    "  \n",
    "class Currency_convertor: \n",
    "    # empty dict to store the conversion rates \n",
    "    rates = {}  \n",
    "    def __init__(self, url): \n",
    "        data = requests.get(url).json() \n",
    "  \n",
    "        # Extracting only the rates from the json data \n",
    "        self.rates = data[\"rates\"]  \n",
    "  \n",
    "    # function to do a simple cross multiplication between  \n",
    "    # the amount and the conversion rates \n",
    "    def convert(self, from_currency, to_currency, amount): \n",
    "        initial_amount = amount \n",
    "        if from_currency != 'EUR' : \n",
    "            amount = amount / self.rates[from_currency] \n",
    "  \n",
    "        # limiting the precision to 2 decimal places \n",
    "        amount = round(amount * self.rates[to_currency], 2) \n",
    "        print('{} {} = {} {}'.format(initial_amount, from_currency, amount, to_currency)) \n",
    "  \n",
    "# Driver code \n",
    "if __name__ == \"__main__\": \n",
    "  \n",
    "    # YOUR_ACCESS_KEY = 'GET YOUR ACCESS KEY FROM fixer.io' \n",
    "    url = str.__add__('http://data.fixer.io/api/latest?access_key=', YOUR_ACCESS_KEY)   \n",
    "    c = Currency_convertor(url) \n",
    "    from_country = input(\"From Country: \") \n",
    "    to_country = input(\"TO Country: \") \n",
    "    amount = int(input(\"Amount: \")) \n",
    "  \n",
    "    c.convert(from_country, to_country, amount) "
   ]
  },
  {
   "cell_type": "code",
   "execution_count": null,
   "metadata": {},
   "outputs": [],
   "source": []
  }
 ],
 "metadata": {
  "kernelspec": {
   "display_name": "Python 3",
   "language": "python",
   "name": "python3"
  },
  "language_info": {
   "codemirror_mode": {
    "name": "ipython",
    "version": 3
   },
   "file_extension": ".py",
   "mimetype": "text/x-python",
   "name": "python",
   "nbconvert_exporter": "python",
   "pygments_lexer": "ipython3",
   "version": "3.8.3"
  }
 },
 "nbformat": 4,
 "nbformat_minor": 4
}
